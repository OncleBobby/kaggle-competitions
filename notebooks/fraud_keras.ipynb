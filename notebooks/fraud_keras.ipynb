{
 "cells": [
  {
   "cell_type": "code",
   "execution_count": 53,
   "metadata": {},
   "outputs": [
    {
     "name": "stderr",
     "output_type": "stream",
     "text": [
      "2023-04-04 16:55:27,213 [INFO] input_train=62169,output_train=62169,data=62169,target=62169,x_train=49735,x_test=12434,y_train=49735,y_test=12434\n"
     ]
    }
   ],
   "source": [
    "import pandas as pd, seaborn as sns, numpy as np, datetime, logging\n",
    "logging.basicConfig(level=logging.INFO, format=\"%(asctime)s [%(levelname)s] %(message)s\",\n",
    "    handlers=[ logging.FileHandler(\"../logs/fraud_notebook.log\"), logging.StreamHandler()])\n",
    "input_train = pd.read_csv('../data/fraud/05_model_input/x_train_transformed.csv')\n",
    "output_train = pd.read_csv('../data/fraud/05_model_input/y_train_transformed.csv')\n",
    "input_test = pd.read_csv('../data/fraud/05_model_input/x_test_transformed.csv')\n",
    "\n",
    "data = pd.concat([input_train, output_train['fraud_flag']], axis=1)\n",
    "target = pd.get_dummies(data['fraud_flag'])\n",
    "from sklearn.model_selection import train_test_split\n",
    "x_train, x_test, y_train, y_test = train_test_split(data, target, test_size=0.2, random_state=0, shuffle=True, stratify=target)\n",
    "logging.info(f'input_train={len(input_train.index)},output_train={len(output_train.index)},data={len(data.index)},target={len(target.index)},x_train={len(x_train.index)},'+\\\n",
    "      f'x_test={len(x_test.index)},y_train={len(y_train.index)},y_test={len(y_test.index)}')\n",
    "x_train = x_train.drop(['fraud_flag'], axis=1)\n",
    "x_test = x_test.drop(['fraud_flag'], axis=1)\n",
    "# logging.info(f'y_test={y_test.head()}')\n",
    "# logging.info(f'x_test={x_test.head()}')\n",
    "# logging.info(f'output_train={output_train.head()}')\n",
    "y_test['ID'] = x_test['ID']\n",
    "y_test['fraud_flag'] = y_test[1.0]\n",
    "# logging.info(f'y_test={y_test.head()}')"
   ]
  },
  {
   "cell_type": "code",
   "execution_count": 54,
   "metadata": {},
   "outputs": [],
   "source": [
    "from tensorflow import keras\n",
    "from numpy.random import seed\n",
    "from tensorflow.random import set_seed\n",
    "seed(1)\n",
    "set_seed(2)"
   ]
  },
  {
   "cell_type": "code",
   "execution_count": 55,
   "metadata": {},
   "outputs": [],
   "source": [
    "import seaborn as sns, keras\n",
    "import matplotlib.pyplot as plt\n",
    "def plot_history(history, metrics):\n",
    "    \"\"\"\n",
    "    Plot the training history\n",
    "\n",
    "    Args:\n",
    "        metrics(str, list): Metric or a list of metrics to plot\n",
    "    \"\"\"\n",
    "    history_df = pd.DataFrame.from_dict(history.history)\n",
    "    sns.lineplot(data=history_df[metrics])\n",
    "    plt.xlabel(\"epochs\")\n",
    "    plt.ylabel(\"RMSE\")"
   ]
  },
  {
   "cell_type": "code",
   "execution_count": 56,
   "metadata": {},
   "outputs": [],
   "source": [
    "def score(y_true, y_pred_proba):\n",
    "    import numpy as np\n",
    "    from sklearn.metrics import average_precision_score\n",
    "    ''' \n",
    "    Return the area under the Precision-Recall curve.  \n",
    "    Args:\n",
    "        - y_true (pd.DataFrame): Dataframe with a unique identifier for each observation (first column) and the ground truth observations (second column).\n",
    "        - y_pred_proba (pd.DataFrame): Dataframe with a unique identifier for each observation (first column) and the predicted probabilities estimates for the minority class (second column).\n",
    "    Returns:\n",
    "        float\n",
    "    '''   \n",
    "    y_true_sorted = y_true.sort_values(by='ID').reset_index(drop=True)[['ID', 'fraud_flag']]\n",
    "    y_pred_proba_sorted = y_pred_proba.sort_values(by='ID').reset_index(drop=True)[['ID', 'fraud_flag']]\n",
    "\n",
    "    score = average_precision_score(np.ravel(y_true_sorted.iloc[:, 1]), np.ravel(y_pred_proba_sorted.iloc[:, 1]))\n",
    "    return score"
   ]
  },
  {
   "cell_type": "code",
   "execution_count": 57,
   "metadata": {},
   "outputs": [],
   "source": [
    "def build_model(activations=['relu', 'relu', 'sigmoid'], batch_size=10, epochs=100, optimizer='adam', loss='binary_crossentropy', units=256):\n",
    "    layers = [keras.layers.Dense(units, activation=activations[0], input_shape=(x_train.shape[1],))]\n",
    "    for activation in activations[1:len(activations)-1]:\n",
    "        layers.append(keras.layers.Dense(units, activation=activation))\n",
    "    layers.append(keras.layers.Dense(2, activation=activations[-1]))\n",
    "    model = keras.Sequential(layers)\n",
    "    metrics = [\n",
    "            keras.metrics.FalseNegatives(name=\"fn\"),\n",
    "            keras.metrics.FalsePositives(name=\"fp\"),\n",
    "            keras.metrics.TrueNegatives(name=\"tn\"),\n",
    "            keras.metrics.TruePositives(name=\"tp\"),\n",
    "            keras.metrics.Precision(name=\"precision\"),\n",
    "            keras.metrics.Recall(name=\"recall\"),\n",
    "        ]\n",
    "    model.compile(optimizer=optimizer, loss=\"binary_crossentropy\", metrics=metrics)\n",
    "    y_columns = [0.0, 1.0]\n",
    "    # y_columns = ['fraud_flag']\n",
    "    # y_columns = [1.0]\n",
    "    history = model.fit(x_train, y_train[y_columns], validation_data=(x_test, y_test[y_columns]), batch_size = batch_size, epochs = epochs, verbose=0)\n",
    "    plot_history(history, 'val_loss')\n",
    "    return model\n",
    "def predict(estimator, x):\n",
    "    y_predict = pd.DataFrame(x['ID'].copy(), columns=['ID'])\n",
    "    prediction = estimator.predict(x)\n",
    "    # logging.info(f'{type(prediction)},prediction={prediction[:10]}')\n",
    "    prediction = estimator.predict(x)\n",
    "    y_predict['fraud_flag'] = [p[1] for p in prediction]\n",
    "    # logging.info(f'prediction={prediction[:10]}')\n",
    "    y_predict = y_predict.reset_index(drop=True)\n",
    "    return y_predict\n",
    "def evaluate(model):\n",
    "    y_predict = predict(model, x_test)\n",
    "    current_score = score(y_test[['ID', 'fraud_flag']], y_predict)\n",
    "    print(f'current_score={current_score}')\n",
    "    return y_predict, current_score\n",
    "def calibrate_model(activation_groups, batch_size = 10, epochs = 100, optimizers=['adam'], losses=['binary_crossentropy'], units=256):\n",
    "    best_score = 0\n",
    "    best_model = None\n",
    "    best_activation = None\n",
    "    best_loss = None\n",
    "    best_optimizer = None\n",
    "    for activations in activation_groups:\n",
    "        name = '_'.join(activations)\n",
    "        for optimizer in optimizers:\n",
    "            for loss in losses:\n",
    "                start_time = datetime.datetime.now()\n",
    "                model = build_model(activations, batch_size, epochs, optimizer, loss, units)\n",
    "                y_predict = predict(model, x_test)\n",
    "                current_score = score(y_test[['ID', 'fraud_flag']], y_predict)    \n",
    "                end_time = datetime.datetime.now()\n",
    "                duration = (end_time - start_time)\n",
    "                logging.info(f'{current_score} for {name}/{optimizer}/{loss}/{units} in {duration}')\n",
    "                if current_score > best_score:\n",
    "                    # print(f'y_predict={y_predict}')\n",
    "                    best_score = current_score\n",
    "                    best_activation = name\n",
    "                    best_optimizer = optimizer\n",
    "                    best_model = model\n",
    "                    best_loss = loss\n",
    "    logging.info(f'The winner is {best_activation}/{best_optimizer}/{best_loss} with a score of {best_score} !')\n",
    "    return best_model, best_activation, best_score, best_optimizer"
   ]
  },
  {
   "cell_type": "code",
   "execution_count": 58,
   "metadata": {},
   "outputs": [
    {
     "name": "stdout",
     "output_type": "stream",
     "text": [
      "389/389 [==============================] - 0s 968us/step\n",
      "389/389 [==============================] - 0s 967us/step\n"
     ]
    },
    {
     "name": "stderr",
     "output_type": "stream",
     "text": [
      "2023-04-04 16:56:20,499 [INFO] 0.027079400442171823 for relu_relu_sigmoid/adam/binary_crossentropy/250 in 0:00:52.533577\n"
     ]
    },
    {
     "name": "stdout",
     "output_type": "stream",
     "text": [
      "389/389 [==============================] - 0s 1ms/step\n",
      "389/389 [==============================] - 0s 1ms/step\n"
     ]
    },
    {
     "name": "stderr",
     "output_type": "stream",
     "text": [
      "2023-04-04 16:57:57,966 [INFO] 0.026790548606321022 for relu_relu_sigmoid/adam/kl_divergence/250 in 0:01:37.466925\n"
     ]
    },
    {
     "name": "stdout",
     "output_type": "stream",
     "text": [
      "389/389 [==============================] - 1s 1ms/step\n",
      "389/389 [==============================] - 0s 1ms/step\n"
     ]
    },
    {
     "name": "stderr",
     "output_type": "stream",
     "text": [
      "2023-04-04 16:59:35,928 [INFO] 0.014479195946958998 for relu_sigmoid_sigmoid/adam/binary_crossentropy/250 in 0:01:37.961094\n"
     ]
    },
    {
     "name": "stdout",
     "output_type": "stream",
     "text": [
      "389/389 [==============================] - 1s 1ms/step\n",
      "389/389 [==============================] - 1s 1ms/step\n"
     ]
    },
    {
     "name": "stderr",
     "output_type": "stream",
     "text": [
      "2023-04-04 17:01:12,600 [INFO] 0.01494149928364958 for relu_sigmoid_sigmoid/adam/kl_divergence/250 in 0:01:36.661045\n"
     ]
    },
    {
     "name": "stdout",
     "output_type": "stream",
     "text": [
      "389/389 [==============================] - 1s 1ms/step\n",
      "389/389 [==============================] - 0s 1ms/step\n"
     ]
    },
    {
     "name": "stderr",
     "output_type": "stream",
     "text": [
      "2023-04-04 17:02:53,361 [INFO] 0.014556860221972012 for relu_softmax_sigmoid/adam/binary_crossentropy/250 in 0:01:40.761414\n"
     ]
    },
    {
     "name": "stdout",
     "output_type": "stream",
     "text": [
      "389/389 [==============================] - 1s 1ms/step\n",
      "389/389 [==============================] - 0s 1ms/step\n"
     ]
    },
    {
     "name": "stderr",
     "output_type": "stream",
     "text": [
      "2023-04-04 17:04:32,213 [INFO] 0.014556860221972012 for relu_softmax_sigmoid/adam/kl_divergence/250 in 0:01:38.852190\n"
     ]
    },
    {
     "name": "stdout",
     "output_type": "stream",
     "text": [
      "389/389 [==============================] - 1s 1ms/step\n",
      "389/389 [==============================] - 1s 1ms/step\n"
     ]
    },
    {
     "name": "stderr",
     "output_type": "stream",
     "text": [
      "2023-04-04 17:06:05,230 [INFO] 0.0449767789937771 for relu_softplus_sigmoid/adam/binary_crossentropy/250 in 0:01:33.015653\n"
     ]
    },
    {
     "name": "stdout",
     "output_type": "stream",
     "text": [
      "389/389 [==============================] - 1s 1ms/step\n",
      "389/389 [==============================] - 1s 1ms/step\n"
     ]
    },
    {
     "name": "stderr",
     "output_type": "stream",
     "text": [
      "2023-04-04 17:07:40,150 [INFO] 0.02168581445437908 for relu_softplus_sigmoid/adam/kl_divergence/250 in 0:01:34.919189\n"
     ]
    },
    {
     "name": "stdout",
     "output_type": "stream",
     "text": [
      "389/389 [==============================] - 1s 1ms/step\n",
      "389/389 [==============================] - 0s 1ms/step\n"
     ]
    },
    {
     "name": "stderr",
     "output_type": "stream",
     "text": [
      "2023-04-04 17:09:25,939 [INFO] 0.014985506881036306 for relu_softsign_sigmoid/adam/binary_crossentropy/250 in 0:01:45.787393\n"
     ]
    },
    {
     "name": "stdout",
     "output_type": "stream",
     "text": [
      "389/389 [==============================] - 1s 1ms/step\n",
      "389/389 [==============================] - 0s 1ms/step\n"
     ]
    },
    {
     "name": "stderr",
     "output_type": "stream",
     "text": [
      "2023-04-04 17:11:08,175 [INFO] 0.019635042665597853 for relu_softsign_sigmoid/adam/kl_divergence/250 in 0:01:42.235348\n"
     ]
    },
    {
     "name": "stdout",
     "output_type": "stream",
     "text": [
      "389/389 [==============================] - 1s 1ms/step\n",
      "389/389 [==============================] - 0s 1ms/step\n"
     ]
    },
    {
     "name": "stderr",
     "output_type": "stream",
     "text": [
      "2023-04-04 17:12:46,321 [INFO] 0.014901424955127286 for relu_tanh_sigmoid/adam/binary_crossentropy/250 in 0:01:38.145217\n"
     ]
    },
    {
     "name": "stdout",
     "output_type": "stream",
     "text": [
      "389/389 [==============================] - 1s 1ms/step\n",
      "389/389 [==============================] - 0s 1ms/step\n"
     ]
    },
    {
     "name": "stderr",
     "output_type": "stream",
     "text": [
      "2023-04-04 17:14:20,512 [INFO] 0.014988015844356096 for relu_tanh_sigmoid/adam/kl_divergence/250 in 0:01:34.189759\n"
     ]
    },
    {
     "name": "stdout",
     "output_type": "stream",
     "text": [
      "389/389 [==============================] - 1s 1ms/step\n",
      "389/389 [==============================] - 0s 1ms/step\n"
     ]
    },
    {
     "name": "stderr",
     "output_type": "stream",
     "text": [
      "2023-04-04 17:15:53,961 [INFO] 0.0609493143918346 for relu_selu_sigmoid/adam/binary_crossentropy/250 in 0:01:33.448034\n"
     ]
    },
    {
     "name": "stdout",
     "output_type": "stream",
     "text": [
      "389/389 [==============================] - 1s 1ms/step\n",
      "389/389 [==============================] - 0s 1ms/step\n"
     ]
    },
    {
     "name": "stderr",
     "output_type": "stream",
     "text": [
      "2023-04-04 17:17:24,915 [INFO] 0.04251984429560679 for relu_selu_sigmoid/adam/kl_divergence/250 in 0:01:30.952429\n"
     ]
    },
    {
     "name": "stdout",
     "output_type": "stream",
     "text": [
      "389/389 [==============================] - 1s 1ms/step\n",
      "389/389 [==============================] - 0s 1ms/step\n"
     ]
    },
    {
     "name": "stderr",
     "output_type": "stream",
     "text": [
      "2023-04-04 17:18:50,968 [INFO] 0.057360836078976275 for relu_elu_sigmoid/adam/binary_crossentropy/250 in 0:01:26.051892\n"
     ]
    },
    {
     "name": "stdout",
     "output_type": "stream",
     "text": [
      "389/389 [==============================] - 1s 1ms/step\n",
      "389/389 [==============================] - 0s 1ms/step\n"
     ]
    },
    {
     "name": "stderr",
     "output_type": "stream",
     "text": [
      "2023-04-04 17:20:19,102 [INFO] 0.03199404272666087 for relu_elu_sigmoid/adam/kl_divergence/250 in 0:01:28.132651\n"
     ]
    },
    {
     "name": "stdout",
     "output_type": "stream",
     "text": [
      "389/389 [==============================] - 1s 2ms/step\n",
      "389/389 [==============================] - 1s 2ms/step\n"
     ]
    },
    {
     "name": "stderr",
     "output_type": "stream",
     "text": [
      "2023-04-04 17:23:06,603 [INFO] 0.034580311660200924 for relu_elu_elu_sigmoid/adam/binary_crossentropy/250 in 0:02:47.500543\n"
     ]
    },
    {
     "name": "stdout",
     "output_type": "stream",
     "text": [
      "389/389 [==============================] - 1s 2ms/step\n",
      "389/389 [==============================] - 1s 1ms/step\n"
     ]
    },
    {
     "name": "stderr",
     "output_type": "stream",
     "text": [
      "2023-04-04 17:25:49,390 [INFO] 0.05899564470275766 for relu_elu_elu_sigmoid/adam/kl_divergence/250 in 0:02:42.785986\n"
     ]
    },
    {
     "name": "stdout",
     "output_type": "stream",
     "text": [
      "389/389 [==============================] - 1s 2ms/step\n",
      "389/389 [==============================] - 1s 2ms/step\n"
     ]
    },
    {
     "name": "stderr",
     "output_type": "stream",
     "text": [
      "2023-04-04 17:29:20,117 [INFO] 0.05884181875983837 for relu_elu_elu_elu_sigmoid/adam/binary_crossentropy/250 in 0:03:30.725657\n"
     ]
    },
    {
     "name": "stdout",
     "output_type": "stream",
     "text": [
      "389/389 [==============================] - 1s 2ms/step\n",
      "389/389 [==============================] - 1s 2ms/step\n"
     ]
    },
    {
     "name": "stderr",
     "output_type": "stream",
     "text": [
      "2023-04-04 17:32:48,483 [INFO] 0.051105352893597904 for relu_elu_elu_elu_sigmoid/adam/kl_divergence/250 in 0:03:28.365036\n"
     ]
    },
    {
     "name": "stdout",
     "output_type": "stream",
     "text": [
      "The winner is relu_selu_sigmoid/adam/binary_crossentropy with a score of 0.0609493143918346 !\n"
     ]
    },
    {
     "data": {
      "image/png": "[encoded data removed]",
      "text/plain": [
       "<Figure size 640x480 with 1 Axes>"
      ]
     },
     "metadata": {},
     "output_type": "display_data"
    }
   ],
   "source": [
    "# activations = ['relu', 'sigmoid', 'softmax', 'softplus', 'softsign', 'tanh', 'selu', 'elu']\n",
    "activation_groups = [ \n",
    "    ['relu', 'relu', 'sigmoid'],\n",
    "    ['relu', 'sigmoid', 'sigmoid'],\n",
    "    ['relu', 'softmax', 'sigmoid'],\n",
    "    ['relu', 'softplus', 'sigmoid'],\n",
    "    ['relu', 'softsign', 'sigmoid'],\n",
    "    ['relu', 'tanh', 'sigmoid'],\n",
    "    ['relu', 'selu', 'sigmoid'],\n",
    "    ['relu', 'elu', 'sigmoid'],\n",
    "    ['relu', 'elu', 'elu', 'sigmoid'],\n",
    "    ['relu', 'elu', 'elu', 'elu', 'sigmoid'],\n",
    "    ]\n",
    "# losses = ['binary_crossentropy', 'sparse_categorical_crossentropy', 'poisson', 'kl_divergence']\n",
    "losses = ['binary_crossentropy', 'kl_divergence']\n",
    "# optimizers = ['adadelta', 'adagrad', 'adam', 'adamax', 'ftrl', 'nadam', 'rmsprop', 'sgd']\n",
    "# optimizers = ['adam']\n",
    "optimizers = ['adam']\n",
    "best_model, best_activation, best_score, best_optimizer = calibrate_model(activation_groups, 1000, 100, optimizers, losses, 250)"
   ]
  }
 ],
 "metadata": {
  "kernelspec": {
   "display_name": "Python 3",
   "language": "python",
   "name": "python3"
  },
  "language_info": {
   "codemirror_mode": {
    "name": "ipython",
    "version": 3
   },
   "file_extension": ".py",
   "mimetype": "text/x-python",
   "name": "python",
   "nbconvert_exporter": "python",
   "pygments_lexer": "ipython3",
   "version": "3.10.10"
  },
  "orig_nbformat": 4,
  "vscode": {
   "interpreter": {
    "hash": "0d607b9d2ae64a65d52c1c76b7f8317099e1481458462f6deb0bb3a67eedbdb4"
   }
  }
 },
 "nbformat": 4,
 "nbformat_minor": 2
}
