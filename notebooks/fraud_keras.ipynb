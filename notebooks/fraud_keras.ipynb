{
 "cells": [
  {
   "cell_type": "code",
   "execution_count": 1,
   "metadata": {},
   "outputs": [
    {
     "name": "stdout",
     "output_type": "stream",
     "text": [
      "input_train=62169,output_train=62169,data=62169,target=62169,x_train=49735,x_test=12434,y_train=49735,y_test=12434\n",
      "target=   0.0  1.0\n",
      "0    1    0\n",
      "1    1    0\n",
      "2    1    0\n",
      "3    1    0\n",
      "4    1    0\n"
     ]
    }
   ],
   "source": [
    "import pandas as pd, seaborn as sns, numpy as np\n",
    "from sklearn.metrics import accuracy_score\n",
    "input_train = pd.read_csv('../data/fraud/05_model_input/x_train_transformed.csv')\n",
    "output_train = pd.read_csv('../data/fraud/05_model_input/y_train_transformed.csv')\n",
    "\n",
    "data = pd.concat([input_train, output_train['fraud_flag']], axis=1)\n",
    "target = pd.get_dummies(data['fraud_flag'])\n",
    "from sklearn.model_selection import train_test_split\n",
    "x_train, x_test, y_train, y_test = train_test_split(data, target,test_size=0.2, random_state=0, shuffle=True, stratify=target)\n",
    "print(f'input_train={len(input_train.index)},output_train={len(output_train.index)},data={len(data.index)},target={len(target.index)},x_train={len(x_train.index)},'+\\\n",
    "      f'x_test={len(x_test.index)},y_train={len(y_train.index)},y_test={len(y_test.index)}')\n",
    "print(f'target={target.head()}')"
   ]
  },
  {
   "cell_type": "code",
   "execution_count": 2,
   "metadata": {},
   "outputs": [],
   "source": [
    "from tensorflow import keras\n",
    "from numpy.random import seed\n",
    "from tensorflow.random import set_seed\n",
    "seed(1)\n",
    "set_seed(2)"
   ]
  },
  {
   "cell_type": "code",
   "execution_count": 3,
   "metadata": {},
   "outputs": [],
   "source": [
    "import seaborn as sns, keras\n",
    "import matplotlib.pyplot as plt\n",
    "def plot_history(history, metrics):\n",
    "    \"\"\"\n",
    "    Plot the training history\n",
    "\n",
    "    Args:\n",
    "        metrics(str, list): Metric or a list of metrics to plot\n",
    "    \"\"\"\n",
    "    history_df = pd.DataFrame.from_dict(history.history)\n",
    "    sns.lineplot(data=history_df[metrics])\n",
    "    plt.xlabel(\"epochs\")\n",
    "    plt.ylabel(\"RMSE\")"
   ]
  },
  {
   "cell_type": "code",
   "execution_count": 4,
   "metadata": {},
   "outputs": [],
   "source": [
    "def score(y_true, y_pred_proba):\n",
    "    import numpy as np\n",
    "    from sklearn.metrics import average_precision_score\n",
    "    ''' \n",
    "    Return the area under the Precision-Recall curve.  \n",
    "    Args:\n",
    "        - y_true (pd.DataFrame): Dataframe with a unique identifier for each observation (first column) and the ground truth observations (second column).\n",
    "        - y_pred_proba (pd.DataFrame): Dataframe with a unique identifier for each observation (first column) and the predicted probabilities estimates for the minority class (second column).\n",
    "    Returns:\n",
    "        float\n",
    "    '''   \n",
    "    y_true_sorted = y_true.sort_values(by='ID').reset_index(drop=True)[['ID', 'fraud_flag']]\n",
    "    y_pred_proba_sorted = y_pred_proba.sort_values(by='ID').reset_index(drop=True)[['ID', 'fraud_flag']]\n",
    "\n",
    "    score = average_precision_score(np.ravel(y_true_sorted.iloc[:, 1]), np.ravel(y_pred_proba_sorted.iloc[:, 1]))\n",
    "    return score"
   ]
  },
  {
   "cell_type": "code",
   "execution_count": 5,
   "metadata": {},
   "outputs": [
    {
     "ename": "NameError",
     "evalue": "name 'model' is not defined",
     "output_type": "error",
     "traceback": [
      "\u001b[1;31m---------------------------------------------------------------------------\u001b[0m",
      "\u001b[1;31mNameError\u001b[0m                                 Traceback (most recent call last)",
      "Cell \u001b[1;32mIn[5], line 19\u001b[0m\n\u001b[0;32m     17\u001b[0m     \u001b[39mreturn\u001b[39;00m y_predict\u001b[39m.\u001b[39mastype(\u001b[39m'\u001b[39m\u001b[39mint32\u001b[39m\u001b[39m'\u001b[39m, copy\u001b[39m=\u001b[39m\u001b[39mFalse\u001b[39;00m)\n\u001b[0;32m     18\u001b[0m \u001b[39m# model = build_model('elu', 10, 10)\u001b[39;00m\n\u001b[1;32m---> 19\u001b[0m y_predict \u001b[39m=\u001b[39m predict(model, x_test)\n\u001b[0;32m     20\u001b[0m \u001b[39mprint\u001b[39m(\u001b[39mf\u001b[39m\u001b[39m'\u001b[39m\u001b[39my_predict=\u001b[39m\u001b[39m{\u001b[39;00my_predict\u001b[39m.\u001b[39mhead()\u001b[39m}\u001b[39;00m\u001b[39m'\u001b[39m)\n\u001b[0;32m     23\u001b[0m     \u001b[39m# y_predict = pd.DataFrame(x['ID'].copy(), columns=['ID'])\u001b[39;00m\n\u001b[0;32m     24\u001b[0m     \u001b[39m# y_predict['reod'] = [decode(y) for y in estimator.predict(x)]\u001b[39;00m\n\u001b[0;32m     25\u001b[0m     \u001b[39m# y_predict = y_predict.reset_index(drop=True)\u001b[39;00m\n\u001b[0;32m     26\u001b[0m     \u001b[39m# return y_predict.astype('int32', copy=False)\u001b[39;00m\n",
      "\u001b[1;31mNameError\u001b[0m: name 'model' is not defined"
     ]
    }
   ],
   "source": [
    "def build_model(activation_name='relu', batch_size = 10, epochs = 100):\n",
    "    inputs = keras.Input(shape=x_train.shape[1])\n",
    "    hidden_layer = keras.layers.Dense(20, activation=activation_name)(inputs)\n",
    "    output_layer = keras.layers.Dense(2, activation=\"softmax\")(hidden_layer)\n",
    "    model = keras.Model(inputs=inputs, outputs=output_layer)\n",
    "    y_columns = [0.0, 1.0]\n",
    "    model.compile(optimizer='adam', loss=keras.losses.CategoricalCrossentropy())\n",
    "    history = model.fit(x_train, y_train[y_columns], validation_data=(x_test, y_test[y_columns]), batch_size = batch_size, epochs = epochs, verbose=0)\n",
    "    plot_history(history, 'val_loss')\n",
    "    return model\n",
    "def predict(estimator, x):\n",
    "    y_predict = pd.DataFrame(x['ID'].copy(), columns=['ID'])\n",
    "    prediction = estimator.predict(x)\n",
    "    print(f'prediction={prediction[:10]}')\n",
    "    y_predict['fraud_flag'] = estimator.predict(x)\n",
    "    y_predict = y_predict.reset_index(drop=True)\n",
    "    return y_predict.astype('int32', copy=False)\n",
    "# model = build_model('elu', 10, 10)\n",
    "y_predict = predict(model, x_test)\n",
    "print(f'y_predict={y_predict.head()}')\n",
    "\n",
    "\n",
    "    # y_predict = pd.DataFrame(x['ID'].copy(), columns=['ID'])\n",
    "    # y_predict['reod'] = [decode(y) for y in estimator.predict(x)]\n",
    "    # y_predict = y_predict.reset_index(drop=True)\n",
    "    # return y_predict.astype('int32', copy=False)"
   ]
  },
  {
   "cell_type": "code",
   "execution_count": null,
   "metadata": {},
   "outputs": [],
   "source": [
    "# example making new probability predictions for a classification problem\n",
    "from keras.models import Sequential\n",
    "from keras.layers import Dense\n",
    "from sklearn.datasets import make_blobs\n",
    "from sklearn.preprocessing import MinMaxScaler\n",
    "# generate 2d classification dataset\n",
    "X, y = make_blobs(n_samples=100, centers=2, n_features=2, random_state=1)\n",
    "print(f'X={X[:10]}')\n",
    "print(f'y={y[:10]}')\n",
    "scalar = MinMaxScaler()\n",
    "scalar.fit(X)\n",
    "X = scalar.transform(X)\n",
    "# define and fit the final model\n",
    "model = Sequential()\n",
    "model.add(Dense(4, input_shape=(2,), activation='relu'))\n",
    "model.add(Dense(4, activation='relu'))\n",
    "model.add(Dense(1, activation='sigmoid'))\n",
    "model.compile(loss='binary_crossentropy', optimizer='adam')\n",
    "model.fit(X, y, epochs=500, verbose=0)\n",
    "# new instances where we do not know the answer\n",
    "Xnew, _ = make_blobs(n_samples=3, centers=2, n_features=2, random_state=1)\n",
    "Xnew = scalar.transform(Xnew)\n",
    "# make a prediction\n",
    "ynew = model.predict(Xnew)\n",
    "# show the inputs and predicted outputs\n",
    "for i in range(len(Xnew)):\n",
    "\tprint(\"X=%s, Predicted=%s\" % (Xnew[i], ynew[i]))"
   ]
  },
  {
   "cell_type": "code",
   "execution_count": null,
   "metadata": {},
   "outputs": [],
   "source": [
    "# model = build_model('elu', 10, 10)\n",
    "y_predict = predict(model, x_test)\n",
    "print(f'y_predict={y_predict.head()}')\n",
    "# current_score = score(y_test['fraud_flag'].values.tolist(), y_predict['fraud_flag'].values.tolist())\n",
    "# print('current_score={current_score}')"
   ]
  },
  {
   "cell_type": "code",
   "execution_count": null,
   "metadata": {},
   "outputs": [],
   "source": [
    "# for activation_name in ['relu', 'sigmoid', 'softmax', 'softplus', 'softsign', 'tanh', 'selu', 'elu', 'exponential']:\n",
    "build_model('relu')"
   ]
  },
  {
   "cell_type": "code",
   "execution_count": null,
   "metadata": {},
   "outputs": [],
   "source": [
    "build_model('sigmoid')"
   ]
  },
  {
   "cell_type": "code",
   "execution_count": null,
   "metadata": {},
   "outputs": [],
   "source": [
    "build_model('softmax')"
   ]
  },
  {
   "cell_type": "code",
   "execution_count": null,
   "metadata": {},
   "outputs": [],
   "source": [
    "build_model('softplus')"
   ]
  },
  {
   "cell_type": "code",
   "execution_count": null,
   "metadata": {},
   "outputs": [],
   "source": [
    "build_model('softsign')"
   ]
  },
  {
   "cell_type": "code",
   "execution_count": null,
   "metadata": {},
   "outputs": [],
   "source": [
    "build_model('tanh')"
   ]
  },
  {
   "cell_type": "code",
   "execution_count": null,
   "metadata": {},
   "outputs": [],
   "source": [
    "build_model('selu')"
   ]
  },
  {
   "cell_type": "code",
   "execution_count": null,
   "metadata": {},
   "outputs": [],
   "source": [
    "build_model('elu')"
   ]
  },
  {
   "cell_type": "code",
   "execution_count": null,
   "metadata": {},
   "outputs": [],
   "source": [
    "build_model('exponential')"
   ]
  },
  {
   "cell_type": "code",
   "execution_count": null,
   "metadata": {},
   "outputs": [],
   "source": [
    "y_pred = model.predict(x_test)\n",
    "prediction = pd.DataFrame(y_pred, columns=target.columns)\n",
    "print(prediction.head())\n",
    "print(y_test.head())\n",
    "result = pd.concat([prediction, y_test], axis=1)\n",
    "print(result.head(10))\n",
    "# from sklearn.metrics import accuracy_score\n",
    "# score = accuracy_score(y_test[target_field].values.tolist(), y_predict[target_field].values.tolist())\n",
    "# print(score)"
   ]
  }
 ],
 "metadata": {
  "kernelspec": {
   "display_name": "Python 3",
   "language": "python",
   "name": "python3"
  },
  "language_info": {
   "codemirror_mode": {
    "name": "ipython",
    "version": 3
   },
   "file_extension": ".py",
   "mimetype": "text/x-python",
   "name": "python",
   "nbconvert_exporter": "python",
   "pygments_lexer": "ipython3",
   "version": "3.10.10"
  },
  "orig_nbformat": 4,
  "vscode": {
   "interpreter": {
    "hash": "0d607b9d2ae64a65d52c1c76b7f8317099e1481458462f6deb0bb3a67eedbdb4"
   }
  }
 },
 "nbformat": 4,
 "nbformat_minor": 2
}
