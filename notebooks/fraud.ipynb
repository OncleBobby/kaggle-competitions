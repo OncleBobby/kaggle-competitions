{
 "cells": [
  {
   "cell_type": "code",
   "execution_count": 2,
   "metadata": {},
   "outputs": [
    {
     "name": "stderr",
     "output_type": "stream",
     "text": [
      "C:\\Users\\gpont\\AppData\\Local\\Temp\\ipykernel_36684\\2295082078.py:2: DtypeWarning: Columns (21,22,23,24,69,70,71,72,93,94,95,96,97,104,105,106,107,108,109,110,111,112,113,114,115,116,117,118,119,120) have mixed types. Specify dtype option on import or set low_memory=False.\n",
      "  x_train = pd.read_csv('../data/fraud/01_raw/X_train_G3tdtEn.csv')\n"
     ]
    }
   ],
   "source": [
    "import pandas as pd\n",
    "x_train = pd.read_csv('../data/fraud/01_raw/X_train_G3tdtEn.csv')\n",
    "# for column in x_train.columns:\n",
    "#     print(column)\n",
    "data = x_train"
   ]
  },
  {
   "cell_type": "code",
   "execution_count": 6,
   "metadata": {},
   "outputs": [
    {
     "name": "stdout",
     "output_type": "stream",
     "text": [
      "The dataset is composed of 96 features\n"
     ]
    },
    {
     "data": {
      "text/html": [
       "<div>\n",
       "<style scoped>\n",
       "    .dataframe tbody tr th:only-of-type {\n",
       "        vertical-align: middle;\n",
       "    }\n",
       "\n",
       "    .dataframe tbody tr th {\n",
       "        vertical-align: top;\n",
       "    }\n",
       "\n",
       "    .dataframe thead th {\n",
       "        text-align: right;\n",
       "    }\n",
       "</style>\n",
       "<table border=\"1\" class=\"dataframe\">\n",
       "  <thead>\n",
       "    <tr style=\"text-align: right;\">\n",
       "      <th></th>\n",
       "      <th>item1</th>\n",
       "      <th>cash_price1</th>\n",
       "      <th>make1</th>\n",
       "      <th>model1</th>\n",
       "      <th>goods_code1</th>\n",
       "      <th>Nbr_of_prod_purchas1</th>\n",
       "    </tr>\n",
       "  </thead>\n",
       "  <tbody>\n",
       "    <tr>\n",
       "      <th>0</th>\n",
       "      <td>COMPUTERS</td>\n",
       "      <td>889.0</td>\n",
       "      <td>APPLE</td>\n",
       "      <td>2020 APPLE MACBOOK AIR 13 3 RETINA DISPLAY M1 ...</td>\n",
       "      <td>239246776</td>\n",
       "      <td>1.0</td>\n",
       "    </tr>\n",
       "    <tr>\n",
       "      <th>1</th>\n",
       "      <td>COMPUTER PERIPHERALS ACCESSORIES</td>\n",
       "      <td>409.0</td>\n",
       "      <td>APPLE</td>\n",
       "      <td>APPLE WATCH SERIES 6 GPS 44MM SPACE GREY ALUMI...</td>\n",
       "      <td>239001518</td>\n",
       "      <td>1.0</td>\n",
       "    </tr>\n",
       "    <tr>\n",
       "      <th>2</th>\n",
       "      <td>TELEVISIONS HOME CINEMA</td>\n",
       "      <td>1399.0</td>\n",
       "      <td>SAMSUNG</td>\n",
       "      <td>SAMSUNG QE75Q70A 2021 QLED HDR 4K ULTRA HD SMA...</td>\n",
       "      <td>239842093</td>\n",
       "      <td>1.0</td>\n",
       "    </tr>\n",
       "    <tr>\n",
       "      <th>3</th>\n",
       "      <td>COMPUTERS</td>\n",
       "      <td>689.0</td>\n",
       "      <td>APPLE</td>\n",
       "      <td>2020 APPLE IPAD AIR 10 9 A14 BIONIC PROCESSOR IOS</td>\n",
       "      <td>239001422</td>\n",
       "      <td>1.0</td>\n",
       "    </tr>\n",
       "    <tr>\n",
       "      <th>4</th>\n",
       "      <td>TELEVISIONS HOME CINEMA</td>\n",
       "      <td>1199.0</td>\n",
       "      <td>SONY</td>\n",
       "      <td>SONY BRAVIA KE48A9 2020 OLED HDR 4K ULTRA HD S...</td>\n",
       "      <td>239952954</td>\n",
       "      <td>1.0</td>\n",
       "    </tr>\n",
       "  </tbody>\n",
       "</table>\n",
       "</div>"
      ],
      "text/plain": [
       "                              item1  cash_price1    make1  \\\n",
       "0                         COMPUTERS        889.0    APPLE   \n",
       "1  COMPUTER PERIPHERALS ACCESSORIES        409.0    APPLE   \n",
       "2           TELEVISIONS HOME CINEMA       1399.0  SAMSUNG   \n",
       "3                         COMPUTERS        689.0    APPLE   \n",
       "4           TELEVISIONS HOME CINEMA       1199.0     SONY   \n",
       "\n",
       "                                              model1 goods_code1  \\\n",
       "0  2020 APPLE MACBOOK AIR 13 3 RETINA DISPLAY M1 ...   239246776   \n",
       "1  APPLE WATCH SERIES 6 GPS 44MM SPACE GREY ALUMI...   239001518   \n",
       "2  SAMSUNG QE75Q70A 2021 QLED HDR 4K ULTRA HD SMA...   239842093   \n",
       "3  2020 APPLE IPAD AIR 10 9 A14 BIONIC PROCESSOR IOS   239001422   \n",
       "4  SONY BRAVIA KE48A9 2020 OLED HDR 4K ULTRA HD S...   239952954   \n",
       "\n",
       "   Nbr_of_prod_purchas1  \n",
       "0                   1.0  \n",
       "1                   1.0  \n",
       "2                   1.0  \n",
       "3                   1.0  \n",
       "4                   1.0  "
      ]
     },
     "execution_count": 6,
     "metadata": {},
     "output_type": "execute_result"
    }
   ],
   "source": [
    "from sklearn.compose import make_column_selector as selector\n",
    "\n",
    "columns = ['item1', 'cash_price1', 'make1', 'model1', 'goods_code1', 'Nbr_of_prod_purchas1']\n",
    "\n",
    "categorical_columns_selector = selector(dtype_include=object)\n",
    "categorical_columns = categorical_columns_selector(data)\n",
    "data_categorical = data[categorical_columns]\n",
    "print(f\"The dataset is composed of {data_categorical.shape[1]} features\")\n",
    "data[columns].head()"
   ]
  },
  {
   "cell_type": "code",
   "execution_count": null,
   "metadata": {},
   "outputs": [],
   "source": [
    "import plotly.express as px\n",
    "fig = px.pie(df, values='pop', names='items1', title='Items')\n",
    "fig.show()"
   ]
  },
  {
   "cell_type": "code",
   "execution_count": 7,
   "metadata": {},
   "outputs": [
    {
     "ename": "",
     "evalue": "",
     "output_type": "error",
     "traceback": [
      "\u001b[1;31mCanceled future for execute_request message before replies were done"
     ]
    },
    {
     "ename": "",
     "evalue": "",
     "output_type": "error",
     "traceback": [
      "\u001b[1;31mThe Kernel crashed while executing code in the the current cell or a previous cell. Please review the code in the cell(s) to identify a possible cause of the failure. Click <a href='https://aka.ms/vscodeJupyterKernelCrash'>here</a> for more info. View Jupyter <a href='command:jupyter.viewOutput'>log</a> for further details."
     ]
    }
   ],
   "source": [
    "pip install plotly.express"
   ]
  },
  {
   "cell_type": "code",
   "execution_count": 3,
   "metadata": {},
   "outputs": [
    {
     "name": "stdout",
     "output_type": "stream",
     "text": [
      "['amsterdam', 'paris', 'tokyo']\n",
      "['paris', 'paris', 'tokyo', 'amsterdam'] -> [1 1 2 0] -> ['paris', 'paris', 'tokyo', 'amsterdam']\n",
      "[1]\n",
      "{'tokyo', 'amsterdam', 'paris'}\n"
     ]
    }
   ],
   "source": [
    "from sklearn.preprocessing import LabelEncoder\n",
    "le = LabelEncoder()\n",
    "labels = [\"paris\", \"paris\", \"tokyo\", \"amsterdam\"]\n",
    "le.fit(labels)\n",
    "\n",
    "print(list(le.classes_))\n",
    "\n",
    "encoded_labels  = le.transform(labels)\n",
    "print(f'{labels} -> {encoded_labels} -> {list(le.inverse_transform(encoded_labels))}')\n",
    "\n",
    "print(le.transform([\"paris\"]))\n",
    "\n",
    "labels_set = set(list(le.classes_))\n",
    "print(labels_set)\n"
   ]
  }
 ],
 "metadata": {
  "kernelspec": {
   "display_name": "Python 3",
   "language": "python",
   "name": "python3"
  },
  "language_info": {
   "codemirror_mode": {
    "name": "ipython",
    "version": 3
   },
   "file_extension": ".py",
   "mimetype": "text/x-python",
   "name": "python",
   "nbconvert_exporter": "python",
   "pygments_lexer": "ipython3",
   "version": "3.10.10"
  },
  "orig_nbformat": 4,
  "vscode": {
   "interpreter": {
    "hash": "0d607b9d2ae64a65d52c1c76b7f8317099e1481458462f6deb0bb3a67eedbdb4"
   }
  }
 },
 "nbformat": 4,
 "nbformat_minor": 2
}
