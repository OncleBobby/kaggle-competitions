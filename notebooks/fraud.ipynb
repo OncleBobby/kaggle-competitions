{
 "cells": [
  {
   "cell_type": "code",
   "execution_count": null,
   "metadata": {},
   "outputs": [],
   "source": [
    "import pandas as pd\n",
    "x_train = pd.read_csv('../data/fraud/01_raw/X_train_G3tdtEn.csv')\n",
    "y_train = pd.read_csv('../data/fraud/01_raw/Y_train_2_XPXJDyy.csv')\n",
    "data = pd.concat([x_train, y_train['fraud_flag']], axis=1)\n",
    "data.head()"
   ]
  },
  {
   "cell_type": "code",
   "execution_count": null,
   "metadata": {},
   "outputs": [],
   "source": [
    "from sklearn.compose import make_column_selector as selector\n",
    "\n",
    "columns = ['item1', 'cash_price1', 'make1', 'model1', 'goods_code1', 'Nbr_of_prod_purchas1', 'Nb_of_items', 'fraud_flag']\n",
    "data[columns].head()"
   ]
  },
  {
   "cell_type": "code",
   "execution_count": null,
   "metadata": {},
   "outputs": [],
   "source": [
    "import plotly.express as px\n",
    "df = data[data['fraud_flag']==1]\n",
    "fig = px.pie(df, values='Nb_of_items', names='item1', title='Items')\n",
    "fig.show()"
   ]
  },
  {
   "cell_type": "code",
   "execution_count": null,
   "metadata": {},
   "outputs": [],
   "source": [
    "import plotly.express as px\n",
    "df = data[data['fraud_flag']==1]\n",
    "fig = px.pie(df, values='Nb_of_items', names='make1', title='Items')\n",
    "fig.show()"
   ]
  },
  {
   "cell_type": "code",
   "execution_count": null,
   "metadata": {},
   "outputs": [],
   "source": [
    "import plotly.express as px\n",
    "df = data[data['fraud_flag']==1]\n",
    "fig = px.pie(df, values='Nb_of_items', names='model1', title='Items')\n",
    "fig.show()"
   ]
  },
  {
   "cell_type": "code",
   "execution_count": null,
   "metadata": {},
   "outputs": [],
   "source": [
    "import plotly.express as px\n",
    "df = data[data['item1']=='COMPUTERS']\n",
    "fig = px.pie(df, values='Nb_of_items', names='fraud_flag', title='Items')\n",
    "fig.show()"
   ]
  },
  {
   "cell_type": "code",
   "execution_count": null,
   "metadata": {},
   "outputs": [],
   "source": [
    "from sklearn.preprocessing import LabelEncoder\n",
    "le = LabelEncoder()\n",
    "labels = [\"paris\", \"paris\", \"tokyo\", \"amsterdam\"]\n",
    "le.fit(labels)\n",
    "\n",
    "print(list(le.classes_))\n",
    "\n",
    "encoded_labels  = le.transform(labels)\n",
    "print(f'{labels} -> {encoded_labels} -> {list(le.inverse_transform(encoded_labels))}')\n",
    "\n",
    "print(le.transform([\"paris\"]))\n",
    "\n",
    "labels_set = set(list(le.classes_))\n",
    "print(labels_set)\n"
   ]
  }
 ],
 "metadata": {
  "kernelspec": {
   "display_name": "Python 3",
   "language": "python",
   "name": "python3"
  },
  "language_info": {
   "codemirror_mode": {
    "name": "ipython",
    "version": 3
   },
   "file_extension": ".py",
   "mimetype": "text/x-python",
   "name": "python",
   "nbconvert_exporter": "python",
   "pygments_lexer": "ipython3",
   "version": "3.10.10"
  },
  "orig_nbformat": 4,
  "vscode": {
   "interpreter": {
    "hash": "0d607b9d2ae64a65d52c1c76b7f8317099e1481458462f6deb0bb3a67eedbdb4"
   }
  }
 },
 "nbformat": 4,
 "nbformat_minor": 2
}
