{
 "cells": [
  {
   "cell_type": "code",
   "execution_count": 1,
   "metadata": {},
   "outputs": [
    {
     "name": "stderr",
     "output_type": "stream",
     "text": [
      "C:\\Users\\gpont\\AppData\\Local\\Temp\\ipykernel_47404\\2292551560.py:2: DtypeWarning: Columns (21,22,23,24,69,70,71,72,93,94,95,96,97,104,105,106,107,108,109,110,111,112,113,114,115,116,117,118,119,120) have mixed types. Specify dtype option on import or set low_memory=False.\n",
      "  x_train = pd.read_csv('../data/01_raw/X_train_G3tdtEn.csv')\n"
     ]
    },
    {
     "data": {
      "text/plain": [
       "Index(['ID', 'item1', 'item2', 'item3', 'item4', 'item5', 'item6', 'item7',\n",
       "       'item8', 'item9',\n",
       "       ...\n",
       "       'Nbr_of_prod_purchas16', 'Nbr_of_prod_purchas17',\n",
       "       'Nbr_of_prod_purchas18', 'Nbr_of_prod_purchas19',\n",
       "       'Nbr_of_prod_purchas20', 'Nbr_of_prod_purchas21',\n",
       "       'Nbr_of_prod_purchas22', 'Nbr_of_prod_purchas23',\n",
       "       'Nbr_of_prod_purchas24', 'Nb_of_items'],\n",
       "      dtype='object', length=146)"
      ]
     },
     "execution_count": 1,
     "metadata": {},
     "output_type": "execute_result"
    }
   ],
   "source": [
    "import pandas as pd\n",
    "x_train = pd.read_csv('../data/01_raw/X_train_G3tdtEn.csv')\n",
    "x_train.columns"
   ]
  }
 ],
 "metadata": {
  "kernelspec": {
   "display_name": "Python 3",
   "language": "python",
   "name": "python3"
  },
  "language_info": {
   "codemirror_mode": {
    "name": "ipython",
    "version": 3
   },
   "file_extension": ".py",
   "mimetype": "text/x-python",
   "name": "python",
   "nbconvert_exporter": "python",
   "pygments_lexer": "ipython3",
   "version": "3.10.10"
  },
  "orig_nbformat": 4,
  "vscode": {
   "interpreter": {
    "hash": "0d607b9d2ae64a65d52c1c76b7f8317099e1481458462f6deb0bb3a67eedbdb4"
   }
  }
 },
 "nbformat": 4,
 "nbformat_minor": 2
}
