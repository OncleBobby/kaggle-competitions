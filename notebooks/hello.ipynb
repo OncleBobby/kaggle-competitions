{
 "cells": [
  {
   "cell_type": "code",
   "execution_count": null,
   "metadata": {},
   "outputs": [],
   "source": [
    "import pandas as pd\n",
    "x_train = pd.read_csv('../data/01_raw/X_train_G3tdtEn.csv')\n",
    "# for column in x_train.columns:\n",
    "#     print(column)\n",
    "data = x_train"
   ]
  },
  {
   "cell_type": "code",
   "execution_count": null,
   "metadata": {},
   "outputs": [],
   "source": [
    "from sklearn.compose import make_column_selector as selector\n",
    "\n",
    "categorical_columns_selector = selector(dtype_include=object)\n",
    "categorical_columns = categorical_columns_selector(data)\n",
    "data_categorical = data[categorical_columns]\n",
    "print(f\"The dataset is composed of {data_categorical.shape[1]} features\")\n",
    "data_categorical.head()"
   ]
  },
  {
   "cell_type": "code",
   "execution_count": 3,
   "metadata": {},
   "outputs": [
    {
     "name": "stdout",
     "output_type": "stream",
     "text": [
      "['amsterdam', 'paris', 'tokyo']\n",
      "['paris', 'paris', 'tokyo', 'amsterdam'] -> [1 1 2 0] -> ['paris', 'paris', 'tokyo', 'amsterdam']\n",
      "[1]\n",
      "{'tokyo', 'amsterdam', 'paris'}\n"
     ]
    }
   ],
   "source": [
    "from sklearn.preprocessing import LabelEncoder\n",
    "le = LabelEncoder()\n",
    "labels = [\"paris\", \"paris\", \"tokyo\", \"amsterdam\"]\n",
    "le.fit(labels)\n",
    "\n",
    "print(list(le.classes_))\n",
    "\n",
    "encoded_labels  = le.transform(labels)\n",
    "print(f'{labels} -> {encoded_labels} -> {list(le.inverse_transform(encoded_labels))}')\n",
    "\n",
    "print(le.transform([\"paris\"]))\n",
    "\n",
    "labels_set = set(list(le.classes_))\n",
    "print(labels_set)\n"
   ]
  }
 ],
 "metadata": {
  "kernelspec": {
   "display_name": "Python 3",
   "language": "python",
   "name": "python3"
  },
  "language_info": {
   "codemirror_mode": {
    "name": "ipython",
    "version": 3
   },
   "file_extension": ".py",
   "mimetype": "text/x-python",
   "name": "python",
   "nbconvert_exporter": "python",
   "pygments_lexer": "ipython3",
   "version": "3.10.10"
  },
  "orig_nbformat": 4,
  "vscode": {
   "interpreter": {
    "hash": "0d607b9d2ae64a65d52c1c76b7f8317099e1481458462f6deb0bb3a67eedbdb4"
   }
  }
 },
 "nbformat": 4,
 "nbformat_minor": 2
}
