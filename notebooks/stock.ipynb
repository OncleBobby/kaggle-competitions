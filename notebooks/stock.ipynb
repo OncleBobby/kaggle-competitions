{
 "cells": [
  {
   "cell_type": "code",
   "execution_count": null,
   "metadata": {},
   "outputs": [],
   "source": [
    "import pandas as pd\n",
    "x_train = pd.read_csv('../data/stock/01_raw/input_training.csv')\n",
    "y_train = pd.read_csv('../data/stock/01_raw/output_training_gmEd6Zt.csv')\n",
    "data = pd.concat([x_train, y_train['reod']], axis=1)\n",
    "data.head()"
   ]
  },
  {
   "cell_type": "code",
   "execution_count": null,
   "metadata": {},
   "outputs": [],
   "source": [
    "import plotly.express as px\n",
    "fig = px.pie(data, names='reod', title='Items')\n",
    "fig.show()"
   ]
  },
  {
   "cell_type": "code",
   "execution_count": null,
   "metadata": {},
   "outputs": [],
   "source": [
    "import datetime, time\n",
    "start_time = datetime.datetime.now()\n",
    "time.sleep(5.46)\n",
    "end_time = datetime.datetime.now()\n",
    "\n",
    "duration = (end_time-start_time)\n",
    "print(f'start_time={start_time},end_time={end_time},type(duration={type(duration)},dir(duration={dir(duration)}')\n",
    "duration_str = str(duration.seconds)\n",
    "print(f'start_time={start_time},end_time={end_time},duration={duration},duration_str={duration_str}')"
   ]
  },
  {
   "cell_type": "code",
   "execution_count": null,
   "metadata": {},
   "outputs": [],
   "source": [
    "\n",
    "print(f\"day={len(x_train['day'].unique())}\")\n",
    "print(f\"equity={len(x_train['equity'].unique())}\")"
   ]
  }
 ],
 "metadata": {
  "kernelspec": {
   "display_name": "Python 3",
   "language": "python",
   "name": "python3"
  },
  "language_info": {
   "codemirror_mode": {
    "name": "ipython",
    "version": 3
   },
   "file_extension": ".py",
   "mimetype": "text/x-python",
   "name": "python",
   "nbconvert_exporter": "python",
   "pygments_lexer": "ipython3",
   "version": "3.10.10"
  },
  "orig_nbformat": 4,
  "vscode": {
   "interpreter": {
    "hash": "0d607b9d2ae64a65d52c1c76b7f8317099e1481458462f6deb0bb3a67eedbdb4"
   }
  }
 },
 "nbformat": 4,
 "nbformat_minor": 2
}
